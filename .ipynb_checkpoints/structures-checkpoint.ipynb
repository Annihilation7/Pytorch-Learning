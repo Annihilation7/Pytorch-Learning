{
 "cells": [
  {
   "cell_type": "code",
   "execution_count": 10,
   "metadata": {},
   "outputs": [],
   "source": [
    "import torch\n",
    "from torch.nn import functional as F"
   ]
  },
  {
   "cell_type": "markdown",
   "metadata": {},
   "source": [
    "### 三重列表解析求一组tensor List(torch.Tensor) 的最大h,w，注意带维度的max函数返回的值和不加维度的区别"
   ]
  },
  {
   "cell_type": "code",
   "execution_count": 8,
   "metadata": {},
   "outputs": [
    {
     "data": {
      "text/plain": [
       "tensor([ 3, 15, 20])"
      ]
     },
     "execution_count": 8,
     "metadata": {},
     "output_type": "execute_result"
    }
   ],
   "source": [
    "x1 = torch.randn(3, 10, 20)\n",
    "x2 = torch.randn(3, 15, 19)\n",
    "x = [x1, x2]\n",
    "\n",
    "torch.stack([torch.stack([torch.as_tensor(dim) for dim in size]) for size in [tuple(x_elem.shape) for x_elem in x]]).max(0).values"
   ]
  },
  {
   "cell_type": "code",
   "execution_count": 14,
   "metadata": {},
   "outputs": [
    {
     "name": "stdout",
     "output_type": "stream",
     "text": [
      "values tensor([[0.5128, 0.8244, 0.4993, 0.8596, 0.9778],\n",
      "        [0.7551, 0.6138, 0.3523, 0.8079, 0.5795],\n",
      "        [0.5365, 0.8422, 0.5753, 0.5092, 0.9353],\n",
      "        [0.7919, 0.8245, 0.5512, 0.4317, 0.6883]])\n",
      "indices tensor([[1, 0, 0, 2, 0],\n",
      "        [1, 2, 1, 0, 2],\n",
      "        [0, 1, 0, 2, 2],\n",
      "        [2, 1, 2, 0, 2]])\n"
     ]
    }
   ],
   "source": [
    "x = torch.rand(3, 4, 5)\n",
    "res = x.max(0)\n",
    "print(\"values\", res.values)\n",
    "print(\"indices\", res.indices)"
   ]
  },
  {
   "cell_type": "markdown",
   "metadata": {},
   "source": [
    "## 求输入size pad到某个数的倍数的符合条件的最小值"
   ]
  },
  {
   "cell_type": "code",
   "execution_count": 9,
   "metadata": {},
   "outputs": [
    {
     "name": "stdout",
     "output_type": "stream",
     "text": [
      "33\n"
     ]
    }
   ],
   "source": [
    "def pad_to(input_size, kernel_size):\n",
    "    return (input_size + kernel_size - 1) // kernel_size * kernel_size\n",
    "\n",
    "print(pad_to(30, 33))"
   ]
  },
  {
   "cell_type": "markdown",
   "metadata": {},
   "source": [
    "### F.pad 输入是nd-tensor，但是h,w维度一定要在最后 而且padding size是先x后y的"
   ]
  },
  {
   "cell_type": "code",
   "execution_count": 11,
   "metadata": {},
   "outputs": [
    {
     "data": {
      "text/plain": [
       "torch.Size([3, 4, 5, 15, 12])"
      ]
     },
     "execution_count": 11,
     "metadata": {},
     "output_type": "execute_result"
    }
   ],
   "source": [
    "x = torch.randn(3, 4, 5, 6, 7)  # h=6,w=7\n",
    "pad_tensor = [2, 3, 4, 5]  # 左2 右3 上4 下5 所以：h=6+9=15,w=7+2+3=12\n",
    "x_pad = F.pad(x, pad_tensor, mode=\"constant\", value=0)\n",
    "x_pad.size()"
   ]
  },
  {
   "cell_type": "markdown",
   "metadata": {},
   "source": [
    "### new_full 返回和某个tensor相同dtype，相同device的tensor，但是shape任意，并且有默认填充值"
   ]
  },
  {
   "cell_type": "code",
   "execution_count": 13,
   "metadata": {},
   "outputs": [
    {
     "data": {
      "text/plain": [
       "tensor([[0., 0.],\n",
       "        [0., 0.],\n",
       "        [0., 0.]])"
      ]
     },
     "execution_count": 13,
     "metadata": {},
     "output_type": "execute_result"
    }
   ],
   "source": [
    "x = torch.randn(2, 3, 4)\n",
    "y = x.new_full(size=(3, 2), fill_value=0)\n",
    "y"
   ]
  },
  {
   "cell_type": "code",
   "execution_count": null,
   "metadata": {},
   "outputs": [],
   "source": []
  }
 ],
 "metadata": {
  "kernelspec": {
   "display_name": "Python [conda env:general] *",
   "language": "python",
   "name": "conda-env-general-py"
  },
  "language_info": {
   "codemirror_mode": {
    "name": "ipython",
    "version": 3
   },
   "file_extension": ".py",
   "mimetype": "text/x-python",
   "name": "python",
   "nbconvert_exporter": "python",
   "pygments_lexer": "ipython3",
   "version": "3.7.4"
  }
 },
 "nbformat": 4,
 "nbformat_minor": 2
}
